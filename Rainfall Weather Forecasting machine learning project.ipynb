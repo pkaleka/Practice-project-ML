{
 "cells": [
  {
   "cell_type": "code",
   "execution_count": 1,
   "id": "9890cb25",
   "metadata": {},
   "outputs": [],
   "source": [
    "import pandas as pd\n",
    "import numpy as np\n",
    "import seaborn as sns\n",
    "import matplotlib.pyplot as plt\n",
    "import warnings\n",
    "warnings.filterwarnings('ignore')"
   ]
  },
  {
   "cell_type": "code",
   "execution_count": 2,
   "id": "7d6891a4",
   "metadata": {},
   "outputs": [
    {
     "data": {
      "text/html": [
       "<div>\n",
       "<style scoped>\n",
       "    .dataframe tbody tr th:only-of-type {\n",
       "        vertical-align: middle;\n",
       "    }\n",
       "\n",
       "    .dataframe tbody tr th {\n",
       "        vertical-align: top;\n",
       "    }\n",
       "\n",
       "    .dataframe thead th {\n",
       "        text-align: right;\n",
       "    }\n",
       "</style>\n",
       "<table border=\"1\" class=\"dataframe\">\n",
       "  <thead>\n",
       "    <tr style=\"text-align: right;\">\n",
       "      <th></th>\n",
       "      <th>Date</th>\n",
       "      <th>Location</th>\n",
       "      <th>MinTemp</th>\n",
       "      <th>MaxTemp</th>\n",
       "      <th>Rainfall</th>\n",
       "      <th>Evaporation</th>\n",
       "      <th>Sunshine</th>\n",
       "      <th>WindGustDir</th>\n",
       "      <th>WindGustSpeed</th>\n",
       "      <th>WindDir9am</th>\n",
       "      <th>...</th>\n",
       "      <th>Humidity9am</th>\n",
       "      <th>Humidity3pm</th>\n",
       "      <th>Pressure9am</th>\n",
       "      <th>Pressure3pm</th>\n",
       "      <th>Cloud9am</th>\n",
       "      <th>Cloud3pm</th>\n",
       "      <th>Temp9am</th>\n",
       "      <th>Temp3pm</th>\n",
       "      <th>RainToday</th>\n",
       "      <th>RainTomorrow</th>\n",
       "    </tr>\n",
       "  </thead>\n",
       "  <tbody>\n",
       "    <tr>\n",
       "      <th>0</th>\n",
       "      <td>2008-12-01</td>\n",
       "      <td>Albury</td>\n",
       "      <td>13.4</td>\n",
       "      <td>22.9</td>\n",
       "      <td>0.6</td>\n",
       "      <td>NaN</td>\n",
       "      <td>NaN</td>\n",
       "      <td>W</td>\n",
       "      <td>44.0</td>\n",
       "      <td>W</td>\n",
       "      <td>...</td>\n",
       "      <td>71.0</td>\n",
       "      <td>22.0</td>\n",
       "      <td>1007.7</td>\n",
       "      <td>1007.1</td>\n",
       "      <td>8.0</td>\n",
       "      <td>NaN</td>\n",
       "      <td>16.9</td>\n",
       "      <td>21.8</td>\n",
       "      <td>No</td>\n",
       "      <td>No</td>\n",
       "    </tr>\n",
       "    <tr>\n",
       "      <th>1</th>\n",
       "      <td>2008-12-02</td>\n",
       "      <td>Albury</td>\n",
       "      <td>7.4</td>\n",
       "      <td>25.1</td>\n",
       "      <td>0.0</td>\n",
       "      <td>NaN</td>\n",
       "      <td>NaN</td>\n",
       "      <td>WNW</td>\n",
       "      <td>44.0</td>\n",
       "      <td>NNW</td>\n",
       "      <td>...</td>\n",
       "      <td>44.0</td>\n",
       "      <td>25.0</td>\n",
       "      <td>1010.6</td>\n",
       "      <td>1007.8</td>\n",
       "      <td>NaN</td>\n",
       "      <td>NaN</td>\n",
       "      <td>17.2</td>\n",
       "      <td>24.3</td>\n",
       "      <td>No</td>\n",
       "      <td>No</td>\n",
       "    </tr>\n",
       "    <tr>\n",
       "      <th>2</th>\n",
       "      <td>2008-12-03</td>\n",
       "      <td>Albury</td>\n",
       "      <td>12.9</td>\n",
       "      <td>25.7</td>\n",
       "      <td>0.0</td>\n",
       "      <td>NaN</td>\n",
       "      <td>NaN</td>\n",
       "      <td>WSW</td>\n",
       "      <td>46.0</td>\n",
       "      <td>W</td>\n",
       "      <td>...</td>\n",
       "      <td>38.0</td>\n",
       "      <td>30.0</td>\n",
       "      <td>1007.6</td>\n",
       "      <td>1008.7</td>\n",
       "      <td>NaN</td>\n",
       "      <td>2.0</td>\n",
       "      <td>21.0</td>\n",
       "      <td>23.2</td>\n",
       "      <td>No</td>\n",
       "      <td>No</td>\n",
       "    </tr>\n",
       "    <tr>\n",
       "      <th>3</th>\n",
       "      <td>2008-12-04</td>\n",
       "      <td>Albury</td>\n",
       "      <td>9.2</td>\n",
       "      <td>28.0</td>\n",
       "      <td>0.0</td>\n",
       "      <td>NaN</td>\n",
       "      <td>NaN</td>\n",
       "      <td>NE</td>\n",
       "      <td>24.0</td>\n",
       "      <td>SE</td>\n",
       "      <td>...</td>\n",
       "      <td>45.0</td>\n",
       "      <td>16.0</td>\n",
       "      <td>1017.6</td>\n",
       "      <td>1012.8</td>\n",
       "      <td>NaN</td>\n",
       "      <td>NaN</td>\n",
       "      <td>18.1</td>\n",
       "      <td>26.5</td>\n",
       "      <td>No</td>\n",
       "      <td>No</td>\n",
       "    </tr>\n",
       "    <tr>\n",
       "      <th>4</th>\n",
       "      <td>2008-12-05</td>\n",
       "      <td>Albury</td>\n",
       "      <td>17.5</td>\n",
       "      <td>32.3</td>\n",
       "      <td>1.0</td>\n",
       "      <td>NaN</td>\n",
       "      <td>NaN</td>\n",
       "      <td>W</td>\n",
       "      <td>41.0</td>\n",
       "      <td>ENE</td>\n",
       "      <td>...</td>\n",
       "      <td>82.0</td>\n",
       "      <td>33.0</td>\n",
       "      <td>1010.8</td>\n",
       "      <td>1006.0</td>\n",
       "      <td>7.0</td>\n",
       "      <td>8.0</td>\n",
       "      <td>17.8</td>\n",
       "      <td>29.7</td>\n",
       "      <td>No</td>\n",
       "      <td>No</td>\n",
       "    </tr>\n",
       "  </tbody>\n",
       "</table>\n",
       "<p>5 rows × 23 columns</p>\n",
       "</div>"
      ],
      "text/plain": [
       "         Date Location  MinTemp  MaxTemp  Rainfall  Evaporation  Sunshine  \\\n",
       "0  2008-12-01   Albury     13.4     22.9       0.6          NaN       NaN   \n",
       "1  2008-12-02   Albury      7.4     25.1       0.0          NaN       NaN   \n",
       "2  2008-12-03   Albury     12.9     25.7       0.0          NaN       NaN   \n",
       "3  2008-12-04   Albury      9.2     28.0       0.0          NaN       NaN   \n",
       "4  2008-12-05   Albury     17.5     32.3       1.0          NaN       NaN   \n",
       "\n",
       "  WindGustDir  WindGustSpeed WindDir9am  ... Humidity9am  Humidity3pm  \\\n",
       "0           W           44.0          W  ...        71.0         22.0   \n",
       "1         WNW           44.0        NNW  ...        44.0         25.0   \n",
       "2         WSW           46.0          W  ...        38.0         30.0   \n",
       "3          NE           24.0         SE  ...        45.0         16.0   \n",
       "4           W           41.0        ENE  ...        82.0         33.0   \n",
       "\n",
       "   Pressure9am  Pressure3pm  Cloud9am  Cloud3pm  Temp9am  Temp3pm  RainToday  \\\n",
       "0       1007.7       1007.1       8.0       NaN     16.9     21.8         No   \n",
       "1       1010.6       1007.8       NaN       NaN     17.2     24.3         No   \n",
       "2       1007.6       1008.7       NaN       2.0     21.0     23.2         No   \n",
       "3       1017.6       1012.8       NaN       NaN     18.1     26.5         No   \n",
       "4       1010.8       1006.0       7.0       8.0     17.8     29.7         No   \n",
       "\n",
       "   RainTomorrow  \n",
       "0            No  \n",
       "1            No  \n",
       "2            No  \n",
       "3            No  \n",
       "4            No  \n",
       "\n",
       "[5 rows x 23 columns]"
      ]
     },
     "execution_count": 2,
     "metadata": {},
     "output_type": "execute_result"
    }
   ],
   "source": [
    "df = pd.read_csv('https://raw.githubusercontent.com/dsrscientist/dataset3/main/weatherAUS.csv')\n",
    "df.head()"
   ]
  },
  {
   "cell_type": "code",
   "execution_count": 3,
   "id": "2ebf96e1",
   "metadata": {},
   "outputs": [
    {
     "data": {
      "text/plain": [
       "(8425, 23)"
      ]
     },
     "execution_count": 3,
     "metadata": {},
     "output_type": "execute_result"
    }
   ],
   "source": [
    "df.shape"
   ]
  },
  {
   "cell_type": "code",
   "execution_count": 4,
   "id": "d86af97f",
   "metadata": {},
   "outputs": [
    {
     "data": {
      "text/plain": [
       "Date             3004\n",
       "Location           12\n",
       "MinTemp           285\n",
       "MaxTemp           331\n",
       "Rainfall          250\n",
       "Evaporation       116\n",
       "Sunshine          140\n",
       "WindGustDir        16\n",
       "WindGustSpeed      52\n",
       "WindDir9am         16\n",
       "WindDir3pm         16\n",
       "WindSpeed9am       34\n",
       "WindSpeed3pm       35\n",
       "Humidity9am        90\n",
       "Humidity3pm        94\n",
       "Pressure9am       384\n",
       "Pressure3pm       374\n",
       "Cloud9am            9\n",
       "Cloud3pm            9\n",
       "Temp9am           304\n",
       "Temp3pm           328\n",
       "RainToday           2\n",
       "RainTomorrow        2\n",
       "dtype: int64"
      ]
     },
     "execution_count": 4,
     "metadata": {},
     "output_type": "execute_result"
    }
   ],
   "source": [
    "df.nunique()"
   ]
  },
  {
   "cell_type": "code",
   "execution_count": 5,
   "id": "13f798a4",
   "metadata": {},
   "outputs": [
    {
     "data": {
      "text/plain": [
       "Date              object\n",
       "Location          object\n",
       "MinTemp          float64\n",
       "MaxTemp          float64\n",
       "Rainfall         float64\n",
       "Evaporation      float64\n",
       "Sunshine         float64\n",
       "WindGustDir       object\n",
       "WindGustSpeed    float64\n",
       "WindDir9am        object\n",
       "WindDir3pm        object\n",
       "WindSpeed9am     float64\n",
       "WindSpeed3pm     float64\n",
       "Humidity9am      float64\n",
       "Humidity3pm      float64\n",
       "Pressure9am      float64\n",
       "Pressure3pm      float64\n",
       "Cloud9am         float64\n",
       "Cloud3pm         float64\n",
       "Temp9am          float64\n",
       "Temp3pm          float64\n",
       "RainToday         object\n",
       "RainTomorrow      object\n",
       "dtype: object"
      ]
     },
     "execution_count": 5,
     "metadata": {},
     "output_type": "execute_result"
    }
   ],
   "source": [
    "df.dtypes"
   ]
  },
  {
   "cell_type": "code",
   "execution_count": 6,
   "id": "815c39c8",
   "metadata": {},
   "outputs": [
    {
     "name": "stdout",
     "output_type": "stream",
     "text": [
      "<class 'pandas.core.frame.DataFrame'>\n",
      "RangeIndex: 8425 entries, 0 to 8424\n",
      "Data columns (total 23 columns):\n",
      " #   Column         Non-Null Count  Dtype  \n",
      "---  ------         --------------  -----  \n",
      " 0   Date           8425 non-null   object \n",
      " 1   Location       8425 non-null   object \n",
      " 2   MinTemp        8350 non-null   float64\n",
      " 3   MaxTemp        8365 non-null   float64\n",
      " 4   Rainfall       8185 non-null   float64\n",
      " 5   Evaporation    4913 non-null   float64\n",
      " 6   Sunshine       4431 non-null   float64\n",
      " 7   WindGustDir    7434 non-null   object \n",
      " 8   WindGustSpeed  7434 non-null   float64\n",
      " 9   WindDir9am     7596 non-null   object \n",
      " 10  WindDir3pm     8117 non-null   object \n",
      " 11  WindSpeed9am   8349 non-null   float64\n",
      " 12  WindSpeed3pm   8318 non-null   float64\n",
      " 13  Humidity9am    8366 non-null   float64\n",
      " 14  Humidity3pm    8323 non-null   float64\n",
      " 15  Pressure9am    7116 non-null   float64\n",
      " 16  Pressure3pm    7113 non-null   float64\n",
      " 17  Cloud9am       6004 non-null   float64\n",
      " 18  Cloud3pm       5970 non-null   float64\n",
      " 19  Temp9am        8369 non-null   float64\n",
      " 20  Temp3pm        8329 non-null   float64\n",
      " 21  RainToday      8185 non-null   object \n",
      " 22  RainTomorrow   8186 non-null   object \n",
      "dtypes: float64(16), object(7)\n",
      "memory usage: 1.5+ MB\n"
     ]
    }
   ],
   "source": [
    "df.info()"
   ]
  },
  {
   "cell_type": "code",
   "execution_count": 7,
   "id": "83a9af85",
   "metadata": {},
   "outputs": [
    {
     "data": {
      "text/plain": [
       "Date                0\n",
       "Location            0\n",
       "MinTemp            75\n",
       "MaxTemp            60\n",
       "Rainfall          240\n",
       "Evaporation      3512\n",
       "Sunshine         3994\n",
       "WindGustDir       991\n",
       "WindGustSpeed     991\n",
       "WindDir9am        829\n",
       "WindDir3pm        308\n",
       "WindSpeed9am       76\n",
       "WindSpeed3pm      107\n",
       "Humidity9am        59\n",
       "Humidity3pm       102\n",
       "Pressure9am      1309\n",
       "Pressure3pm      1312\n",
       "Cloud9am         2421\n",
       "Cloud3pm         2455\n",
       "Temp9am            56\n",
       "Temp3pm            96\n",
       "RainToday         240\n",
       "RainTomorrow      239\n",
       "dtype: int64"
      ]
     },
     "execution_count": 7,
     "metadata": {},
     "output_type": "execute_result"
    }
   ],
   "source": [
    "df.isnull().sum()"
   ]
  },
  {
   "cell_type": "code",
   "execution_count": 9,
   "id": "e80c4285",
   "metadata": {},
   "outputs": [
    {
     "data": {
      "text/html": [
       "<div>\n",
       "<style scoped>\n",
       "    .dataframe tbody tr th:only-of-type {\n",
       "        vertical-align: middle;\n",
       "    }\n",
       "\n",
       "    .dataframe tbody tr th {\n",
       "        vertical-align: top;\n",
       "    }\n",
       "\n",
       "    .dataframe thead th {\n",
       "        text-align: right;\n",
       "    }\n",
       "</style>\n",
       "<table border=\"1\" class=\"dataframe\">\n",
       "  <thead>\n",
       "    <tr style=\"text-align: right;\">\n",
       "      <th></th>\n",
       "      <th>count</th>\n",
       "      <th>mean</th>\n",
       "      <th>std</th>\n",
       "      <th>min</th>\n",
       "      <th>25%</th>\n",
       "      <th>50%</th>\n",
       "      <th>75%</th>\n",
       "      <th>max</th>\n",
       "    </tr>\n",
       "  </thead>\n",
       "  <tbody>\n",
       "    <tr>\n",
       "      <th>MinTemp</th>\n",
       "      <td>8350.0</td>\n",
       "      <td>13.193305</td>\n",
       "      <td>5.403596</td>\n",
       "      <td>-2.0</td>\n",
       "      <td>9.20</td>\n",
       "      <td>13.3</td>\n",
       "      <td>17.4</td>\n",
       "      <td>28.5</td>\n",
       "    </tr>\n",
       "    <tr>\n",
       "      <th>MaxTemp</th>\n",
       "      <td>8365.0</td>\n",
       "      <td>23.859976</td>\n",
       "      <td>6.136408</td>\n",
       "      <td>8.2</td>\n",
       "      <td>19.30</td>\n",
       "      <td>23.3</td>\n",
       "      <td>28.0</td>\n",
       "      <td>45.5</td>\n",
       "    </tr>\n",
       "    <tr>\n",
       "      <th>Rainfall</th>\n",
       "      <td>8185.0</td>\n",
       "      <td>2.805913</td>\n",
       "      <td>10.459379</td>\n",
       "      <td>0.0</td>\n",
       "      <td>0.00</td>\n",
       "      <td>0.0</td>\n",
       "      <td>1.0</td>\n",
       "      <td>371.0</td>\n",
       "    </tr>\n",
       "    <tr>\n",
       "      <th>Evaporation</th>\n",
       "      <td>4913.0</td>\n",
       "      <td>5.389395</td>\n",
       "      <td>5.044484</td>\n",
       "      <td>0.0</td>\n",
       "      <td>2.60</td>\n",
       "      <td>4.6</td>\n",
       "      <td>7.0</td>\n",
       "      <td>145.0</td>\n",
       "    </tr>\n",
       "    <tr>\n",
       "      <th>Sunshine</th>\n",
       "      <td>4431.0</td>\n",
       "      <td>7.632205</td>\n",
       "      <td>3.896235</td>\n",
       "      <td>0.0</td>\n",
       "      <td>4.75</td>\n",
       "      <td>8.7</td>\n",
       "      <td>10.7</td>\n",
       "      <td>13.9</td>\n",
       "    </tr>\n",
       "    <tr>\n",
       "      <th>WindGustSpeed</th>\n",
       "      <td>7434.0</td>\n",
       "      <td>40.174469</td>\n",
       "      <td>14.665721</td>\n",
       "      <td>7.0</td>\n",
       "      <td>30.00</td>\n",
       "      <td>39.0</td>\n",
       "      <td>50.0</td>\n",
       "      <td>107.0</td>\n",
       "    </tr>\n",
       "    <tr>\n",
       "      <th>WindSpeed9am</th>\n",
       "      <td>8349.0</td>\n",
       "      <td>13.847646</td>\n",
       "      <td>10.174579</td>\n",
       "      <td>0.0</td>\n",
       "      <td>6.00</td>\n",
       "      <td>13.0</td>\n",
       "      <td>20.0</td>\n",
       "      <td>63.0</td>\n",
       "    </tr>\n",
       "    <tr>\n",
       "      <th>WindSpeed3pm</th>\n",
       "      <td>8318.0</td>\n",
       "      <td>18.533662</td>\n",
       "      <td>9.766986</td>\n",
       "      <td>0.0</td>\n",
       "      <td>11.00</td>\n",
       "      <td>19.0</td>\n",
       "      <td>24.0</td>\n",
       "      <td>83.0</td>\n",
       "    </tr>\n",
       "    <tr>\n",
       "      <th>Humidity9am</th>\n",
       "      <td>8366.0</td>\n",
       "      <td>67.822496</td>\n",
       "      <td>16.833283</td>\n",
       "      <td>10.0</td>\n",
       "      <td>56.00</td>\n",
       "      <td>68.0</td>\n",
       "      <td>80.0</td>\n",
       "      <td>100.0</td>\n",
       "    </tr>\n",
       "    <tr>\n",
       "      <th>Humidity3pm</th>\n",
       "      <td>8323.0</td>\n",
       "      <td>51.249790</td>\n",
       "      <td>18.423774</td>\n",
       "      <td>6.0</td>\n",
       "      <td>39.00</td>\n",
       "      <td>51.0</td>\n",
       "      <td>63.0</td>\n",
       "      <td>99.0</td>\n",
       "    </tr>\n",
       "    <tr>\n",
       "      <th>Pressure9am</th>\n",
       "      <td>7116.0</td>\n",
       "      <td>1017.640233</td>\n",
       "      <td>6.828699</td>\n",
       "      <td>989.8</td>\n",
       "      <td>1013.00</td>\n",
       "      <td>1017.7</td>\n",
       "      <td>1022.3</td>\n",
       "      <td>1039.0</td>\n",
       "    </tr>\n",
       "    <tr>\n",
       "      <th>Pressure3pm</th>\n",
       "      <td>7113.0</td>\n",
       "      <td>1015.236075</td>\n",
       "      <td>6.766681</td>\n",
       "      <td>982.9</td>\n",
       "      <td>1010.40</td>\n",
       "      <td>1015.3</td>\n",
       "      <td>1019.8</td>\n",
       "      <td>1036.0</td>\n",
       "    </tr>\n",
       "    <tr>\n",
       "      <th>Cloud9am</th>\n",
       "      <td>6004.0</td>\n",
       "      <td>4.566622</td>\n",
       "      <td>2.877658</td>\n",
       "      <td>0.0</td>\n",
       "      <td>1.00</td>\n",
       "      <td>5.0</td>\n",
       "      <td>7.0</td>\n",
       "      <td>8.0</td>\n",
       "    </tr>\n",
       "    <tr>\n",
       "      <th>Cloud3pm</th>\n",
       "      <td>5970.0</td>\n",
       "      <td>4.503183</td>\n",
       "      <td>2.731659</td>\n",
       "      <td>0.0</td>\n",
       "      <td>2.00</td>\n",
       "      <td>5.0</td>\n",
       "      <td>7.0</td>\n",
       "      <td>8.0</td>\n",
       "    </tr>\n",
       "    <tr>\n",
       "      <th>Temp9am</th>\n",
       "      <td>8369.0</td>\n",
       "      <td>17.762015</td>\n",
       "      <td>5.627035</td>\n",
       "      <td>1.9</td>\n",
       "      <td>13.80</td>\n",
       "      <td>17.8</td>\n",
       "      <td>21.9</td>\n",
       "      <td>39.4</td>\n",
       "    </tr>\n",
       "    <tr>\n",
       "      <th>Temp3pm</th>\n",
       "      <td>8329.0</td>\n",
       "      <td>22.442934</td>\n",
       "      <td>5.980020</td>\n",
       "      <td>7.3</td>\n",
       "      <td>18.00</td>\n",
       "      <td>21.9</td>\n",
       "      <td>26.4</td>\n",
       "      <td>44.1</td>\n",
       "    </tr>\n",
       "  </tbody>\n",
       "</table>\n",
       "</div>"
      ],
      "text/plain": [
       "                count         mean        std    min      25%     50%     75%  \\\n",
       "MinTemp        8350.0    13.193305   5.403596   -2.0     9.20    13.3    17.4   \n",
       "MaxTemp        8365.0    23.859976   6.136408    8.2    19.30    23.3    28.0   \n",
       "Rainfall       8185.0     2.805913  10.459379    0.0     0.00     0.0     1.0   \n",
       "Evaporation    4913.0     5.389395   5.044484    0.0     2.60     4.6     7.0   \n",
       "Sunshine       4431.0     7.632205   3.896235    0.0     4.75     8.7    10.7   \n",
       "WindGustSpeed  7434.0    40.174469  14.665721    7.0    30.00    39.0    50.0   \n",
       "WindSpeed9am   8349.0    13.847646  10.174579    0.0     6.00    13.0    20.0   \n",
       "WindSpeed3pm   8318.0    18.533662   9.766986    0.0    11.00    19.0    24.0   \n",
       "Humidity9am    8366.0    67.822496  16.833283   10.0    56.00    68.0    80.0   \n",
       "Humidity3pm    8323.0    51.249790  18.423774    6.0    39.00    51.0    63.0   \n",
       "Pressure9am    7116.0  1017.640233   6.828699  989.8  1013.00  1017.7  1022.3   \n",
       "Pressure3pm    7113.0  1015.236075   6.766681  982.9  1010.40  1015.3  1019.8   \n",
       "Cloud9am       6004.0     4.566622   2.877658    0.0     1.00     5.0     7.0   \n",
       "Cloud3pm       5970.0     4.503183   2.731659    0.0     2.00     5.0     7.0   \n",
       "Temp9am        8369.0    17.762015   5.627035    1.9    13.80    17.8    21.9   \n",
       "Temp3pm        8329.0    22.442934   5.980020    7.3    18.00    21.9    26.4   \n",
       "\n",
       "                  max  \n",
       "MinTemp          28.5  \n",
       "MaxTemp          45.5  \n",
       "Rainfall        371.0  \n",
       "Evaporation     145.0  \n",
       "Sunshine         13.9  \n",
       "WindGustSpeed   107.0  \n",
       "WindSpeed9am     63.0  \n",
       "WindSpeed3pm     83.0  \n",
       "Humidity9am     100.0  \n",
       "Humidity3pm      99.0  \n",
       "Pressure9am    1039.0  \n",
       "Pressure3pm    1036.0  \n",
       "Cloud9am          8.0  \n",
       "Cloud3pm          8.0  \n",
       "Temp9am          39.4  \n",
       "Temp3pm          44.1  "
      ]
     },
     "execution_count": 9,
     "metadata": {},
     "output_type": "execute_result"
    }
   ],
   "source": [
    "df.describe().T"
   ]
  },
  {
   "cell_type": "code",
   "execution_count": 10,
   "id": "d2d4e52e",
   "metadata": {},
   "outputs": [
    {
     "data": {
      "text/plain": [
       "Index(['Date', 'Location', 'MinTemp', 'MaxTemp', 'Rainfall', 'Evaporation',\n",
       "       'Sunshine', 'WindGustDir', 'WindGustSpeed', 'WindDir9am', 'WindDir3pm',\n",
       "       'WindSpeed9am', 'WindSpeed3pm', 'Humidity9am', 'Humidity3pm',\n",
       "       'Pressure9am', 'Pressure3pm', 'Cloud9am', 'Cloud3pm', 'Temp9am',\n",
       "       'Temp3pm', 'RainToday', 'RainTomorrow'],\n",
       "      dtype='object')"
      ]
     },
     "execution_count": 10,
     "metadata": {},
     "output_type": "execute_result"
    }
   ],
   "source": [
    "df.columns"
   ]
  },
  {
   "cell_type": "code",
   "execution_count": 11,
   "id": "e195be00",
   "metadata": {},
   "outputs": [
    {
     "data": {
      "text/plain": [
       "Melbourne       1622\n",
       "Williamtown     1230\n",
       "PerthAirport    1204\n",
       "Albury           907\n",
       "Newcastle        822\n",
       "CoffsHarbour     611\n",
       "Brisbane         579\n",
       "Penrith          482\n",
       "Wollongong       474\n",
       "Darwin           250\n",
       "Adelaide         205\n",
       "Uluru             39\n",
       "Name: Location, dtype: int64"
      ]
     },
     "execution_count": 11,
     "metadata": {},
     "output_type": "execute_result"
    }
   ],
   "source": [
    "df['Location'].value_counts()"
   ]
  },
  {
   "cell_type": "code",
   "execution_count": 12,
   "id": "cfeaca1b",
   "metadata": {},
   "outputs": [
    {
     "data": {
      "text/plain": [
       "0.0      5299\n",
       "0.2       406\n",
       "0.4       177\n",
       "0.6       116\n",
       "1.2        86\n",
       "         ... \n",
       "61.2        1\n",
       "128.0       1\n",
       "90.0        1\n",
       "34.4        1\n",
       "40.0        1\n",
       "Name: Rainfall, Length: 250, dtype: int64"
      ]
     },
     "execution_count": 12,
     "metadata": {},
     "output_type": "execute_result"
    }
   ],
   "source": [
    "df['Rainfall'].value_counts()"
   ]
  },
  {
   "cell_type": "code",
   "execution_count": 13,
   "id": "0208f39a",
   "metadata": {},
   "outputs": [
    {
     "data": {
      "text/plain": [
       "4.0     180\n",
       "3.0     163\n",
       "2.4     147\n",
       "2.2     146\n",
       "2.6     143\n",
       "       ... \n",
       "17.0      1\n",
       "18.6      1\n",
       "22.4      1\n",
       "19.2      1\n",
       "0.7       1\n",
       "Name: Evaporation, Length: 116, dtype: int64"
      ]
     },
     "execution_count": 13,
     "metadata": {},
     "output_type": "execute_result"
    }
   ],
   "source": [
    "df['Evaporation'].value_counts()"
   ]
  },
  {
   "cell_type": "code",
   "execution_count": 14,
   "id": "86119548",
   "metadata": {},
   "outputs": [
    {
     "data": {
      "text/plain": [
       "0.0     166\n",
       "11.1     68\n",
       "11.2     67\n",
       "11.0     66\n",
       "10.7     64\n",
       "       ... \n",
       "2.5       8\n",
       "13.6      7\n",
       "13.8      4\n",
       "13.9      3\n",
       "13.5      2\n",
       "Name: Sunshine, Length: 140, dtype: int64"
      ]
     },
     "execution_count": 14,
     "metadata": {},
     "output_type": "execute_result"
    }
   ],
   "source": [
    "df['Sunshine'].value_counts()"
   ]
  },
  {
   "cell_type": "code",
   "execution_count": 15,
   "id": "3b7bf7a6",
   "metadata": {},
   "outputs": [
    {
     "data": {
      "text/plain": [
       "N      713\n",
       "SSE    578\n",
       "S      577\n",
       "SW     572\n",
       "E      557\n",
       "WNW    531\n",
       "W      507\n",
       "WSW    504\n",
       "SE     484\n",
       "ENE    415\n",
       "SSW    396\n",
       "NW     383\n",
       "NE     353\n",
       "NNE    343\n",
       "ESE    302\n",
       "NNW    219\n",
       "Name: WindGustDir, dtype: int64"
      ]
     },
     "execution_count": 15,
     "metadata": {},
     "output_type": "execute_result"
    }
   ],
   "source": [
    "df['WindGustDir'].value_counts()"
   ]
  },
  {
   "cell_type": "code",
   "execution_count": 17,
   "id": "d9af253d",
   "metadata": {},
   "outputs": [
    {
     "data": {
      "text/plain": [
       "39.0     441\n",
       "35.0     435\n",
       "37.0     422\n",
       "33.0     408\n",
       "31.0     396\n",
       "41.0     371\n",
       "30.0     367\n",
       "28.0     332\n",
       "43.0     302\n",
       "48.0     292\n",
       "26.0     275\n",
       "50.0     259\n",
       "46.0     258\n",
       "24.0     255\n",
       "52.0     249\n",
       "44.0     241\n",
       "22.0     223\n",
       "54.0     210\n",
       "20.0     186\n",
       "56.0     153\n",
       "57.0     148\n",
       "19.0     137\n",
       "61.0     114\n",
       "59.0     113\n",
       "63.0      95\n",
       "17.0      92\n",
       "65.0      74\n",
       "67.0      64\n",
       "72.0      62\n",
       "15.0      58\n",
       "13.0      57\n",
       "74.0      54\n",
       "70.0      53\n",
       "69.0      49\n",
       "76.0      44\n",
       "78.0      23\n",
       "80.0      22\n",
       "11.0      18\n",
       "85.0      14\n",
       "81.0      13\n",
       "91.0      12\n",
       "93.0       7\n",
       "89.0       7\n",
       "83.0       6\n",
       "9.0        6\n",
       "98.0       4\n",
       "94.0       3\n",
       "87.0       3\n",
       "7.0        2\n",
       "102.0      2\n",
       "100.0      2\n",
       "107.0      1\n",
       "Name: WindGustSpeed, dtype: int64"
      ]
     },
     "execution_count": 17,
     "metadata": {},
     "output_type": "execute_result"
    }
   ],
   "source": [
    "df['WindGustSpeed'].value_counts()"
   ]
  },
  {
   "cell_type": "code",
   "execution_count": 18,
   "id": "3915285e",
   "metadata": {},
   "outputs": [
    {
     "data": {
      "text/plain": [
       "N      906\n",
       "SW     704\n",
       "NW     625\n",
       "WSW    543\n",
       "SE     505\n",
       "WNW    480\n",
       "SSW    467\n",
       "ENE    433\n",
       "NNE    430\n",
       "W      414\n",
       "NE     409\n",
       "S      402\n",
       "E      380\n",
       "SSE    365\n",
       "NNW    280\n",
       "ESE    253\n",
       "Name: WindDir9am, dtype: int64"
      ]
     },
     "execution_count": 18,
     "metadata": {},
     "output_type": "execute_result"
    }
   ],
   "source": [
    "df['WindDir9am'].value_counts()"
   ]
  },
  {
   "cell_type": "code",
   "execution_count": 19,
   "id": "e042f4f5",
   "metadata": {},
   "outputs": [
    {
     "data": {
      "text/plain": [
       "SE     813\n",
       "S      742\n",
       "SSE    623\n",
       "WSW    580\n",
       "NE     544\n",
       "N      524\n",
       "SW     494\n",
       "WNW    487\n",
       "NW     468\n",
       "W      462\n",
       "ESE    462\n",
       "E      460\n",
       "ENE    417\n",
       "SSW    370\n",
       "NNE    365\n",
       "NNW    306\n",
       "Name: WindDir3pm, dtype: int64"
      ]
     },
     "execution_count": 19,
     "metadata": {},
     "output_type": "execute_result"
    }
   ],
   "source": [
    "df['WindDir3pm'].value_counts()"
   ]
  },
  {
   "cell_type": "code",
   "execution_count": 20,
   "id": "5b1a2b28",
   "metadata": {},
   "outputs": [
    {
     "data": {
      "text/plain": [
       "9.0     803\n",
       "0.0     752\n",
       "13.0    708\n",
       "4.0     610\n",
       "11.0    607\n",
       "7.0     572\n",
       "6.0     515\n",
       "17.0    481\n",
       "15.0    467\n",
       "19.0    430\n",
       "20.0    427\n",
       "24.0    312\n",
       "22.0    279\n",
       "2.0     258\n",
       "28.0    229\n",
       "26.0    208\n",
       "31.0    153\n",
       "30.0    114\n",
       "35.0     77\n",
       "33.0     70\n",
       "37.0     58\n",
       "41.0     49\n",
       "39.0     35\n",
       "44.0     29\n",
       "43.0     28\n",
       "46.0     26\n",
       "52.0     16\n",
       "50.0     10\n",
       "56.0      8\n",
       "54.0      6\n",
       "48.0      6\n",
       "61.0      2\n",
       "57.0      2\n",
       "63.0      2\n",
       "Name: WindSpeed9am, dtype: int64"
      ]
     },
     "execution_count": 20,
     "metadata": {},
     "output_type": "execute_result"
    }
   ],
   "source": [
    "df['WindSpeed9am'].value_counts()"
   ]
  },
  {
   "cell_type": "code",
   "execution_count": 21,
   "id": "1f981b6b",
   "metadata": {},
   "outputs": [
    {
     "data": {
      "text/plain": [
       "9.0     724\n",
       "19.0    639\n",
       "13.0    599\n",
       "20.0    594\n",
       "17.0    555\n",
       "11.0    534\n",
       "15.0    524\n",
       "24.0    511\n",
       "28.0    458\n",
       "22.0    457\n",
       "26.0    378\n",
       "7.0     331\n",
       "4.0     287\n",
       "30.0    279\n",
       "31.0    266\n",
       "6.0     240\n",
       "0.0     199\n",
       "33.0    170\n",
       "35.0    137\n",
       "37.0    125\n",
       "39.0     80\n",
       "2.0      58\n",
       "41.0     45\n",
       "43.0     34\n",
       "46.0     29\n",
       "44.0     18\n",
       "50.0     12\n",
       "48.0     11\n",
       "52.0      9\n",
       "56.0      7\n",
       "54.0      2\n",
       "61.0      2\n",
       "57.0      2\n",
       "65.0      1\n",
       "83.0      1\n",
       "Name: WindSpeed3pm, dtype: int64"
      ]
     },
     "execution_count": 21,
     "metadata": {},
     "output_type": "execute_result"
    }
   ],
   "source": [
    "df['WindSpeed3pm'].value_counts()"
   ]
  },
  {
   "cell_type": "code",
   "execution_count": 22,
   "id": "ec7ede60",
   "metadata": {},
   "outputs": [
    {
     "data": {
      "text/plain": [
       "73.0    205\n",
       "62.0    202\n",
       "68.0    199\n",
       "74.0    195\n",
       "70.0    188\n",
       "       ... \n",
       "17.0      2\n",
       "14.0      2\n",
       "11.0      2\n",
       "10.0      1\n",
       "15.0      1\n",
       "Name: Humidity9am, Length: 90, dtype: int64"
      ]
     },
     "execution_count": 22,
     "metadata": {},
     "output_type": "execute_result"
    }
   ],
   "source": [
    "df['Humidity9am'].value_counts()"
   ]
  },
  {
   "cell_type": "code",
   "execution_count": 23,
   "id": "ec2d9c1b",
   "metadata": {},
   "outputs": [
    {
     "data": {
      "text/plain": [
       "55.0    195\n",
       "48.0    194\n",
       "51.0    194\n",
       "46.0    193\n",
       "54.0    193\n",
       "       ... \n",
       "8.0      11\n",
       "7.0       9\n",
       "98.0      7\n",
       "99.0      3\n",
       "6.0       3\n",
       "Name: Humidity3pm, Length: 94, dtype: int64"
      ]
     },
     "execution_count": 23,
     "metadata": {},
     "output_type": "execute_result"
    }
   ],
   "source": [
    "df['Humidity3pm'].value_counts()"
   ]
  },
  {
   "cell_type": "code",
   "execution_count": 24,
   "id": "5e8d6d8e",
   "metadata": {},
   "outputs": [
    {
     "data": {
      "text/plain": [
       "1014.8    58\n",
       "1019.2    55\n",
       "1016.1    54\n",
       "1019.6    53\n",
       "1020.0    49\n",
       "          ..\n",
       "1037.3     1\n",
       "997.8      1\n",
       "1036.9     1\n",
       "1036.3     1\n",
       "1033.6     1\n",
       "Name: Pressure9am, Length: 384, dtype: int64"
      ]
     },
     "execution_count": 24,
     "metadata": {},
     "output_type": "execute_result"
    }
   ],
   "source": [
    "df['Pressure9am'].value_counts()"
   ]
  },
  {
   "cell_type": "code",
   "execution_count": 25,
   "id": "4e9152c0",
   "metadata": {},
   "outputs": [
    {
     "data": {
      "text/plain": [
       "1017.8    60\n",
       "1018.0    57\n",
       "1019.8    53\n",
       "1017.9    53\n",
       "1015.5    52\n",
       "          ..\n",
       "982.9      1\n",
       "994.3      1\n",
       "998.9      1\n",
       "1030.0     1\n",
       "1029.5     1\n",
       "Name: Pressure3pm, Length: 374, dtype: int64"
      ]
     },
     "execution_count": 25,
     "metadata": {},
     "output_type": "execute_result"
    }
   ],
   "source": [
    "df['Pressure3pm'].value_counts()"
   ]
  },
  {
   "cell_type": "code",
   "execution_count": 26,
   "id": "cc6b10fa",
   "metadata": {},
   "outputs": [
    {
     "data": {
      "text/plain": [
       "7.0    1418\n",
       "1.0    1038\n",
       "8.0    1015\n",
       "0.0     554\n",
       "6.0     551\n",
       "5.0     414\n",
       "3.0     384\n",
       "2.0     357\n",
       "4.0     273\n",
       "Name: Cloud9am, dtype: int64"
      ]
     },
     "execution_count": 26,
     "metadata": {},
     "output_type": "execute_result"
    }
   ],
   "source": [
    "df['Cloud9am'].value_counts()"
   ]
  },
  {
   "cell_type": "code",
   "execution_count": 27,
   "id": "73395bb7",
   "metadata": {},
   "outputs": [
    {
     "data": {
      "text/plain": [
       "7.0    1294\n",
       "1.0    1077\n",
       "8.0     863\n",
       "6.0     597\n",
       "5.0     522\n",
       "2.0     508\n",
       "3.0     411\n",
       "4.0     351\n",
       "0.0     347\n",
       "Name: Cloud3pm, dtype: int64"
      ]
     },
     "execution_count": 27,
     "metadata": {},
     "output_type": "execute_result"
    }
   ],
   "source": [
    "df['Cloud3pm'].value_counts()"
   ]
  },
  {
   "cell_type": "code",
   "execution_count": 28,
   "id": "83521c13",
   "metadata": {},
   "outputs": [
    {
     "data": {
      "text/plain": [
       "14.8    77\n",
       "18.0    73\n",
       "18.3    71\n",
       "17.5    69\n",
       "20.6    68\n",
       "        ..\n",
       "2.5      1\n",
       "2.0      1\n",
       "3.4      1\n",
       "5.2      1\n",
       "30.2     1\n",
       "Name: Temp9am, Length: 304, dtype: int64"
      ]
     },
     "execution_count": 28,
     "metadata": {},
     "output_type": "execute_result"
    }
   ],
   "source": [
    "df['Temp9am'].value_counts()"
   ]
  },
  {
   "cell_type": "code",
   "execution_count": 29,
   "id": "477a599c",
   "metadata": {},
   "outputs": [
    {
     "data": {
      "text/plain": [
       "19.2    78\n",
       "22.5    77\n",
       "19.0    75\n",
       "21.7    72\n",
       "18.5    72\n",
       "        ..\n",
       "37.4     1\n",
       "8.7      1\n",
       "36.7     1\n",
       "8.6      1\n",
       "42.4     1\n",
       "Name: Temp3pm, Length: 328, dtype: int64"
      ]
     },
     "execution_count": 29,
     "metadata": {},
     "output_type": "execute_result"
    }
   ],
   "source": [
    "df['Temp3pm'].value_counts()"
   ]
  },
  {
   "cell_type": "code",
   "execution_count": 30,
   "id": "606bda78",
   "metadata": {},
   "outputs": [
    {
     "data": {
      "text/plain": [
       "No     6195\n",
       "Yes    1990\n",
       "Name: RainToday, dtype: int64"
      ]
     },
     "execution_count": 30,
     "metadata": {},
     "output_type": "execute_result"
    }
   ],
   "source": [
    "df['RainToday'].value_counts()"
   ]
  },
  {
   "cell_type": "code",
   "execution_count": 31,
   "id": "ff1ca422",
   "metadata": {},
   "outputs": [
    {
     "data": {
      "text/plain": [
       "No     6195\n",
       "Yes    1991\n",
       "Name: RainTomorrow, dtype: int64"
      ]
     },
     "execution_count": 31,
     "metadata": {},
     "output_type": "execute_result"
    }
   ],
   "source": [
    "df['RainTomorrow'].value_counts()"
   ]
  },
  {
   "cell_type": "code",
   "execution_count": 33,
   "id": "4731e51c",
   "metadata": {},
   "outputs": [
    {
     "data": {
      "image/png": "[encoded data removed]",
      "text/plain": [
       "<Figure size 432x288 with 1 Axes>"
      ]
     },
     "metadata": {},
     "output_type": "display_data"
    }
   ],
   "source": [
    "sns.set()\n",
    "sns.countplot('Location',data=df);"
   ]
  },
  {
   "cell_type": "code",
   "execution_count": 34,
   "id": "edf07b2e",
   "metadata": {},
   "outputs": [
    {
     "data": {
      "image/png": "[encoded data removed]",
      "text/plain": [
       "<Figure size 432x288 with 1 Axes>"
      ]
     },
     "metadata": {},
     "output_type": "display_data"
    }
   ],
   "source": [
    "sns.countplot('Rainfall',data=df);"
   ]
  },
  {
   "cell_type": "code",
   "execution_count": 35,
   "id": "6cc82303",
   "metadata": {},
   "outputs": [
    {
     "data": {
      "image/png": "[encoded data removed]",
      "text/plain": [
       "<Figure size 432x288 with 1 Axes>"
      ]
     },
     "metadata": {},
     "output_type": "display_data"
    }
   ],
   "source": [
    "sns.countplot('Evaporation',data=df);"
   ]
  },
  {
   "cell_type": "code",
   "execution_count": 36,
   "id": "1697f99a",
   "metadata": {},
   "outputs": [
    {
     "data": {
      "image/png": "[encoded data removed]",
      "text/plain": [
       "<Figure size 432x288 with 1 Axes>"
      ]
     },
     "metadata": {},
     "output_type": "display_data"
    }
   ],
   "source": [
    "sns.countplot('WindGustDir',data=df);"
   ]
  },
  {
   "cell_type": "code",
   "execution_count": 37,
   "id": "94cfc43c",
   "metadata": {},
   "outputs": [
    {
     "data": {
      "image/png": "[encoded data removed]",
      "text/plain": [
       "<Figure size 432x288 with 1 Axes>"
      ]
     },
     "metadata": {},
     "output_type": "display_data"
    }
   ],
   "source": [
    "sns.countplot('WindGustSpeed',data=df);"
   ]
  },
  {
   "cell_type": "code",
   "execution_count": 39,
   "id": "9c6a6bec",
   "metadata": {},
   "outputs": [
    {
     "data": {
      "image/png": "[encoded data removed]",
      "text/plain": [
       "<Figure size 432x288 with 1 Axes>"
      ]
     },
     "metadata": {},
     "output_type": "display_data"
    }
   ],
   "source": [
    "sns.countplot('WindSpeed9am',data=df);"
   ]
  },
  {
   "cell_type": "code",
   "execution_count": 40,
   "id": "35d1fe3f",
   "metadata": {},
   "outputs": [
    {
     "data": {
      "image/png": "[encoded data removed]",
      "text/plain": [
       "<Figure size 432x288 with 1 Axes>"
      ]
     },
     "metadata": {},
     "output_type": "display_data"
    }
   ],
   "source": [
    "sns.countplot('WindSpeed3pm',data=df);"
   ]
  },
  {
   "cell_type": "code",
   "execution_count": 41,
   "id": "7a4bd18a",
   "metadata": {},
   "outputs": [
    {
     "data": {
      "image/png": "[encoded data removed]",
      "text/plain": [
       "<Figure size 432x288 with 1 Axes>"
      ]
     },
     "metadata": {},
     "output_type": "display_data"
    }
   ],
   "source": [
    "sns.countplot('Cloud9am',data=df);"
   ]
  },
  {
   "cell_type": "code",
   "execution_count": 42,
   "id": "1cf2dbbc",
   "metadata": {},
   "outputs": [
    {
     "data": {
      "image/png": "[encoded data removed]",
      "text/plain": [
       "<Figure size 432x288 with 1 Axes>"
      ]
     },
     "metadata": {},
     "output_type": "display_data"
    }
   ],
   "source": [
    "sns.countplot('Cloud3pm',data=df);"
   ]
  },
  {
   "cell_type": "code",
   "execution_count": 43,
   "id": "1df05793",
   "metadata": {},
   "outputs": [
    {
     "data": {
      "image/png": "[encoded data removed]",
      "text/plain": [
       "<Figure size 432x288 with 1 Axes>"
      ]
     },
     "metadata": {},
     "output_type": "display_data"
    }
   ],
   "source": [
    "sns.countplot('RainToday',data=df);"
   ]
  },
  {
   "cell_type": "code",
   "execution_count": 44,
   "id": "a3aaef56",
   "metadata": {},
   "outputs": [
    {
     "data": {
      "image/png": "[encoded data removed]",
      "text/plain": [
       "<Figure size 432x288 with 1 Axes>"
      ]
     },
     "metadata": {},
     "output_type": "display_data"
    }
   ],
   "source": [
    "sns.countplot('RainTomorrow',data=df);"
   ]
  },
  {
   "cell_type": "code",
   "execution_count": 45,
   "id": "633c1967",
   "metadata": {},
   "outputs": [
    {
     "data": {
      "text/html": [
       "<div>\n",
       "<style scoped>\n",
       "    .dataframe tbody tr th:only-of-type {\n",
       "        vertical-align: middle;\n",
       "    }\n",
       "\n",
       "    .dataframe tbody tr th {\n",
       "        vertical-align: top;\n",
       "    }\n",
       "\n",
       "    .dataframe thead th {\n",
       "        text-align: right;\n",
       "    }\n",
       "</style>\n",
       "<table border=\"1\" class=\"dataframe\">\n",
       "  <thead>\n",
       "    <tr style=\"text-align: right;\">\n",
       "      <th></th>\n",
       "      <th>MinTemp</th>\n",
       "      <th>MaxTemp</th>\n",
       "      <th>Rainfall</th>\n",
       "      <th>Evaporation</th>\n",
       "      <th>Sunshine</th>\n",
       "      <th>WindGustSpeed</th>\n",
       "      <th>WindSpeed9am</th>\n",
       "      <th>WindSpeed3pm</th>\n",
       "      <th>Humidity9am</th>\n",
       "      <th>Humidity3pm</th>\n",
       "      <th>Pressure9am</th>\n",
       "      <th>Pressure3pm</th>\n",
       "      <th>Cloud9am</th>\n",
       "      <th>Cloud3pm</th>\n",
       "      <th>Temp9am</th>\n",
       "      <th>Temp3pm</th>\n",
       "    </tr>\n",
       "  </thead>\n",
       "  <tbody>\n",
       "    <tr>\n",
       "      <th>MinTemp</th>\n",
       "      <td>1.000000</td>\n",
       "      <td>0.720955</td>\n",
       "      <td>0.091642</td>\n",
       "      <td>0.348643</td>\n",
       "      <td>0.081365</td>\n",
       "      <td>0.241317</td>\n",
       "      <td>0.137263</td>\n",
       "      <td>0.180091</td>\n",
       "      <td>-0.130906</td>\n",
       "      <td>0.079569</td>\n",
       "      <td>-0.465478</td>\n",
       "      <td>-0.458665</td>\n",
       "      <td>0.111213</td>\n",
       "      <td>0.046889</td>\n",
       "      <td>0.888342</td>\n",
       "      <td>0.689652</td>\n",
       "    </tr>\n",
       "    <tr>\n",
       "      <th>MaxTemp</th>\n",
       "      <td>0.720955</td>\n",
       "      <td>1.000000</td>\n",
       "      <td>-0.088906</td>\n",
       "      <td>0.424728</td>\n",
       "      <td>0.523909</td>\n",
       "      <td>0.146113</td>\n",
       "      <td>0.013425</td>\n",
       "      <td>0.088797</td>\n",
       "      <td>-0.392496</td>\n",
       "      <td>-0.424217</td>\n",
       "      <td>-0.347285</td>\n",
       "      <td>-0.430074</td>\n",
       "      <td>-0.307700</td>\n",
       "      <td>-0.301675</td>\n",
       "      <td>0.869503</td>\n",
       "      <td>0.978665</td>\n",
       "    </tr>\n",
       "    <tr>\n",
       "      <th>Rainfall</th>\n",
       "      <td>0.091642</td>\n",
       "      <td>-0.088906</td>\n",
       "      <td>1.000000</td>\n",
       "      <td>0.043463</td>\n",
       "      <td>-0.209654</td>\n",
       "      <td>0.104999</td>\n",
       "      <td>0.051349</td>\n",
       "      <td>0.025185</td>\n",
       "      <td>0.231702</td>\n",
       "      <td>0.238730</td>\n",
       "      <td>-0.080412</td>\n",
       "      <td>-0.037270</td>\n",
       "      <td>0.195157</td>\n",
       "      <td>0.159250</td>\n",
       "      <td>-0.007191</td>\n",
       "      <td>-0.092263</td>\n",
       "    </tr>\n",
       "    <tr>\n",
       "      <th>Evaporation</th>\n",
       "      <td>0.348643</td>\n",
       "      <td>0.424728</td>\n",
       "      <td>0.043463</td>\n",
       "      <td>1.000000</td>\n",
       "      <td>0.340893</td>\n",
       "      <td>0.214069</td>\n",
       "      <td>0.176701</td>\n",
       "      <td>0.142421</td>\n",
       "      <td>-0.286869</td>\n",
       "      <td>-0.221244</td>\n",
       "      <td>-0.218171</td>\n",
       "      <td>-0.233401</td>\n",
       "      <td>-0.084288</td>\n",
       "      <td>-0.152637</td>\n",
       "      <td>0.405467</td>\n",
       "      <td>0.414156</td>\n",
       "    </tr>\n",
       "    <tr>\n",
       "      <th>Sunshine</th>\n",
       "      <td>0.081365</td>\n",
       "      <td>0.523909</td>\n",
       "      <td>-0.209654</td>\n",
       "      <td>0.340893</td>\n",
       "      <td>1.000000</td>\n",
       "      <td>-0.018455</td>\n",
       "      <td>-0.025112</td>\n",
       "      <td>0.045031</td>\n",
       "      <td>-0.512349</td>\n",
       "      <td>-0.630536</td>\n",
       "      <td>0.028666</td>\n",
       "      <td>-0.047098</td>\n",
       "      <td>-0.705577</td>\n",
       "      <td>-0.723957</td>\n",
       "      <td>0.348708</td>\n",
       "      <td>0.546057</td>\n",
       "    </tr>\n",
       "    <tr>\n",
       "      <th>WindGustSpeed</th>\n",
       "      <td>0.241317</td>\n",
       "      <td>0.146113</td>\n",
       "      <td>0.104999</td>\n",
       "      <td>0.214069</td>\n",
       "      <td>-0.018455</td>\n",
       "      <td>1.000000</td>\n",
       "      <td>0.656079</td>\n",
       "      <td>0.711403</td>\n",
       "      <td>-0.286045</td>\n",
       "      <td>-0.097380</td>\n",
       "      <td>-0.430736</td>\n",
       "      <td>-0.394745</td>\n",
       "      <td>0.030124</td>\n",
       "      <td>0.104157</td>\n",
       "      <td>0.211477</td>\n",
       "      <td>0.106872</td>\n",
       "    </tr>\n",
       "    <tr>\n",
       "      <th>WindSpeed9am</th>\n",
       "      <td>0.137263</td>\n",
       "      <td>0.013425</td>\n",
       "      <td>0.051349</td>\n",
       "      <td>0.176701</td>\n",
       "      <td>-0.025112</td>\n",
       "      <td>0.656079</td>\n",
       "      <td>1.000000</td>\n",
       "      <td>0.566322</td>\n",
       "      <td>-0.358981</td>\n",
       "      <td>-0.111595</td>\n",
       "      <td>-0.197189</td>\n",
       "      <td>-0.156517</td>\n",
       "      <td>-0.000607</td>\n",
       "      <td>0.068930</td>\n",
       "      <td>0.109936</td>\n",
       "      <td>-0.002619</td>\n",
       "    </tr>\n",
       "    <tr>\n",
       "      <th>WindSpeed3pm</th>\n",
       "      <td>0.180091</td>\n",
       "      <td>0.088797</td>\n",
       "      <td>0.025185</td>\n",
       "      <td>0.142421</td>\n",
       "      <td>0.045031</td>\n",
       "      <td>0.711403</td>\n",
       "      <td>0.566322</td>\n",
       "      <td>1.000000</td>\n",
       "      <td>-0.252488</td>\n",
       "      <td>-0.091248</td>\n",
       "      <td>-0.291271</td>\n",
       "      <td>-0.240378</td>\n",
       "      <td>0.005807</td>\n",
       "      <td>0.003894</td>\n",
       "      <td>0.185329</td>\n",
       "      <td>0.066201</td>\n",
       "    </tr>\n",
       "    <tr>\n",
       "      <th>Humidity9am</th>\n",
       "      <td>-0.130906</td>\n",
       "      <td>-0.392496</td>\n",
       "      <td>0.231702</td>\n",
       "      <td>-0.286869</td>\n",
       "      <td>-0.512349</td>\n",
       "      <td>-0.286045</td>\n",
       "      <td>-0.358981</td>\n",
       "      <td>-0.252488</td>\n",
       "      <td>1.000000</td>\n",
       "      <td>0.636255</td>\n",
       "      <td>0.154699</td>\n",
       "      <td>0.188463</td>\n",
       "      <td>0.472126</td>\n",
       "      <td>0.352736</td>\n",
       "      <td>-0.378389</td>\n",
       "      <td>-0.383788</td>\n",
       "    </tr>\n",
       "    <tr>\n",
       "      <th>Humidity3pm</th>\n",
       "      <td>0.079569</td>\n",
       "      <td>-0.424217</td>\n",
       "      <td>0.238730</td>\n",
       "      <td>-0.221244</td>\n",
       "      <td>-0.630536</td>\n",
       "      <td>-0.097380</td>\n",
       "      <td>-0.111595</td>\n",
       "      <td>-0.091248</td>\n",
       "      <td>0.636255</td>\n",
       "      <td>1.000000</td>\n",
       "      <td>0.001763</td>\n",
       "      <td>0.076002</td>\n",
       "      <td>0.509797</td>\n",
       "      <td>0.520221</td>\n",
       "      <td>-0.130973</td>\n",
       "      <td>-0.491634</td>\n",
       "    </tr>\n",
       "    <tr>\n",
       "      <th>Pressure9am</th>\n",
       "      <td>-0.465478</td>\n",
       "      <td>-0.347285</td>\n",
       "      <td>-0.080412</td>\n",
       "      <td>-0.218171</td>\n",
       "      <td>0.028666</td>\n",
       "      <td>-0.430736</td>\n",
       "      <td>-0.197189</td>\n",
       "      <td>-0.291271</td>\n",
       "      <td>0.154699</td>\n",
       "      <td>0.001763</td>\n",
       "      <td>1.000000</td>\n",
       "      <td>0.961922</td>\n",
       "      <td>-0.091391</td>\n",
       "      <td>-0.104535</td>\n",
       "      <td>-0.441901</td>\n",
       "      <td>-0.302488</td>\n",
       "    </tr>\n",
       "    <tr>\n",
       "      <th>Pressure3pm</th>\n",
       "      <td>-0.458665</td>\n",
       "      <td>-0.430074</td>\n",
       "      <td>-0.037270</td>\n",
       "      <td>-0.233401</td>\n",
       "      <td>-0.047098</td>\n",
       "      <td>-0.394745</td>\n",
       "      <td>-0.156517</td>\n",
       "      <td>-0.240378</td>\n",
       "      <td>0.188463</td>\n",
       "      <td>0.076002</td>\n",
       "      <td>0.961922</td>\n",
       "      <td>1.000000</td>\n",
       "      <td>-0.015692</td>\n",
       "      <td>-0.035986</td>\n",
       "      <td>-0.472788</td>\n",
       "      <td>-0.394852</td>\n",
       "    </tr>\n",
       "    <tr>\n",
       "      <th>Cloud9am</th>\n",
       "      <td>0.111213</td>\n",
       "      <td>-0.307700</td>\n",
       "      <td>0.195157</td>\n",
       "      <td>-0.084288</td>\n",
       "      <td>-0.705577</td>\n",
       "      <td>0.030124</td>\n",
       "      <td>-0.000607</td>\n",
       "      <td>0.005807</td>\n",
       "      <td>0.472126</td>\n",
       "      <td>0.509797</td>\n",
       "      <td>-0.091391</td>\n",
       "      <td>-0.015692</td>\n",
       "      <td>1.000000</td>\n",
       "      <td>0.619202</td>\n",
       "      <td>-0.161867</td>\n",
       "      <td>-0.326547</td>\n",
       "    </tr>\n",
       "    <tr>\n",
       "      <th>Cloud3pm</th>\n",
       "      <td>0.046889</td>\n",
       "      <td>-0.301675</td>\n",
       "      <td>0.159250</td>\n",
       "      <td>-0.152637</td>\n",
       "      <td>-0.723957</td>\n",
       "      <td>0.104157</td>\n",
       "      <td>0.068930</td>\n",
       "      <td>0.003894</td>\n",
       "      <td>0.352736</td>\n",
       "      <td>0.520221</td>\n",
       "      <td>-0.104535</td>\n",
       "      <td>-0.035986</td>\n",
       "      <td>0.619202</td>\n",
       "      <td>1.000000</td>\n",
       "      <td>-0.151438</td>\n",
       "      <td>-0.348986</td>\n",
       "    </tr>\n",
       "    <tr>\n",
       "      <th>Temp9am</th>\n",
       "      <td>0.888342</td>\n",
       "      <td>0.869503</td>\n",
       "      <td>-0.007191</td>\n",
       "      <td>0.405467</td>\n",
       "      <td>0.348708</td>\n",
       "      <td>0.211477</td>\n",
       "      <td>0.109936</td>\n",
       "      <td>0.185329</td>\n",
       "      <td>-0.378389</td>\n",
       "      <td>-0.130973</td>\n",
       "      <td>-0.441901</td>\n",
       "      <td>-0.472788</td>\n",
       "      <td>-0.161867</td>\n",
       "      <td>-0.151438</td>\n",
       "      <td>1.000000</td>\n",
       "      <td>0.837552</td>\n",
       "    </tr>\n",
       "    <tr>\n",
       "      <th>Temp3pm</th>\n",
       "      <td>0.689652</td>\n",
       "      <td>0.978665</td>\n",
       "      <td>-0.092263</td>\n",
       "      <td>0.414156</td>\n",
       "      <td>0.546057</td>\n",
       "      <td>0.106872</td>\n",
       "      <td>-0.002619</td>\n",
       "      <td>0.066201</td>\n",
       "      <td>-0.383788</td>\n",
       "      <td>-0.491634</td>\n",
       "      <td>-0.302488</td>\n",
       "      <td>-0.394852</td>\n",
       "      <td>-0.326547</td>\n",
       "      <td>-0.348986</td>\n",
       "      <td>0.837552</td>\n",
       "      <td>1.000000</td>\n",
       "    </tr>\n",
       "  </tbody>\n",
       "</table>\n",
       "</div>"
      ],
      "text/plain": [
       "                MinTemp   MaxTemp  Rainfall  Evaporation  Sunshine  \\\n",
       "MinTemp        1.000000  0.720955  0.091642     0.348643  0.081365   \n",
       "MaxTemp        0.720955  1.000000 -0.088906     0.424728  0.523909   \n",
       "Rainfall       0.091642 -0.088906  1.000000     0.043463 -0.209654   \n",
       "Evaporation    0.348643  0.424728  0.043463     1.000000  0.340893   \n",
       "Sunshine       0.081365  0.523909 -0.209654     0.340893  1.000000   \n",
       "WindGustSpeed  0.241317  0.146113  0.104999     0.214069 -0.018455   \n",
       "WindSpeed9am   0.137263  0.013425  0.051349     0.176701 -0.025112   \n",
       "WindSpeed3pm   0.180091  0.088797  0.025185     0.142421  0.045031   \n",
       "Humidity9am   -0.130906 -0.392496  0.231702    -0.286869 -0.512349   \n",
       "Humidity3pm    0.079569 -0.424217  0.238730    -0.221244 -0.630536   \n",
       "Pressure9am   -0.465478 -0.347285 -0.080412    -0.218171  0.028666   \n",
       "Pressure3pm   -0.458665 -0.430074 -0.037270    -0.233401 -0.047098   \n",
       "Cloud9am       0.111213 -0.307700  0.195157    -0.084288 -0.705577   \n",
       "Cloud3pm       0.046889 -0.301675  0.159250    -0.152637 -0.723957   \n",
       "Temp9am        0.888342  0.869503 -0.007191     0.405467  0.348708   \n",
       "Temp3pm        0.689652  0.978665 -0.092263     0.414156  0.546057   \n",
       "\n",
       "               WindGustSpeed  WindSpeed9am  WindSpeed3pm  Humidity9am  \\\n",
       "MinTemp             0.241317      0.137263      0.180091    -0.130906   \n",
       "MaxTemp             0.146113      0.013425      0.088797    -0.392496   \n",
       "Rainfall            0.104999      0.051349      0.025185     0.231702   \n",
       "Evaporation         0.214069      0.176701      0.142421    -0.286869   \n",
       "Sunshine           -0.018455     -0.025112      0.045031    -0.512349   \n",
       "WindGustSpeed       1.000000      0.656079      0.711403    -0.286045   \n",
       "WindSpeed9am        0.656079      1.000000      0.566322    -0.358981   \n",
       "WindSpeed3pm        0.711403      0.566322      1.000000    -0.252488   \n",
       "Humidity9am        -0.286045     -0.358981     -0.252488     1.000000   \n",
       "Humidity3pm        -0.097380     -0.111595     -0.091248     0.636255   \n",
       "Pressure9am        -0.430736     -0.197189     -0.291271     0.154699   \n",
       "Pressure3pm        -0.394745     -0.156517     -0.240378     0.188463   \n",
       "Cloud9am            0.030124     -0.000607      0.005807     0.472126   \n",
       "Cloud3pm            0.104157      0.068930      0.003894     0.352736   \n",
       "Temp9am             0.211477      0.109936      0.185329    -0.378389   \n",
       "Temp3pm             0.106872     -0.002619      0.066201    -0.383788   \n",
       "\n",
       "               Humidity3pm  Pressure9am  Pressure3pm  Cloud9am  Cloud3pm  \\\n",
       "MinTemp           0.079569    -0.465478    -0.458665  0.111213  0.046889   \n",
       "MaxTemp          -0.424217    -0.347285    -0.430074 -0.307700 -0.301675   \n",
       "Rainfall          0.238730    -0.080412    -0.037270  0.195157  0.159250   \n",
       "Evaporation      -0.221244    -0.218171    -0.233401 -0.084288 -0.152637   \n",
       "Sunshine         -0.630536     0.028666    -0.047098 -0.705577 -0.723957   \n",
       "WindGustSpeed    -0.097380    -0.430736    -0.394745  0.030124  0.104157   \n",
       "WindSpeed9am     -0.111595    -0.197189    -0.156517 -0.000607  0.068930   \n",
       "WindSpeed3pm     -0.091248    -0.291271    -0.240378  0.005807  0.003894   \n",
       "Humidity9am       0.636255     0.154699     0.188463  0.472126  0.352736   \n",
       "Humidity3pm       1.000000     0.001763     0.076002  0.509797  0.520221   \n",
       "Pressure9am       0.001763     1.000000     0.961922 -0.091391 -0.104535   \n",
       "Pressure3pm       0.076002     0.961922     1.000000 -0.015692 -0.035986   \n",
       "Cloud9am          0.509797    -0.091391    -0.015692  1.000000  0.619202   \n",
       "Cloud3pm          0.520221    -0.104535    -0.035986  0.619202  1.000000   \n",
       "Temp9am          -0.130973    -0.441901    -0.472788 -0.161867 -0.151438   \n",
       "Temp3pm          -0.491634    -0.302488    -0.394852 -0.326547 -0.348986   \n",
       "\n",
       "                Temp9am   Temp3pm  \n",
       "MinTemp        0.888342  0.689652  \n",
       "MaxTemp        0.869503  0.978665  \n",
       "Rainfall      -0.007191 -0.092263  \n",
       "Evaporation    0.405467  0.414156  \n",
       "Sunshine       0.348708  0.546057  \n",
       "WindGustSpeed  0.211477  0.106872  \n",
       "WindSpeed9am   0.109936 -0.002619  \n",
       "WindSpeed3pm   0.185329  0.066201  \n",
       "Humidity9am   -0.378389 -0.383788  \n",
       "Humidity3pm   -0.130973 -0.491634  \n",
       "Pressure9am   -0.441901 -0.302488  \n",
       "Pressure3pm   -0.472788 -0.394852  \n",
       "Cloud9am      -0.161867 -0.326547  \n",
       "Cloud3pm      -0.151438 -0.348986  \n",
       "Temp9am        1.000000  0.837552  \n",
       "Temp3pm        0.837552  1.000000  "
      ]
     },
     "execution_count": 45,
     "metadata": {},
     "output_type": "execute_result"
    }
   ],
   "source": [
    "df.corr()"
   ]
  },
  {
   "cell_type": "code",
   "execution_count": 46,
   "id": "474cd8dd",
   "metadata": {},
   "outputs": [
    {
     "data": {
      "image/png": "[encoded data removed]",
      "text/plain": [
       "<Figure size 432x288 with 2 Axes>"
      ]
     },
     "metadata": {},
     "output_type": "display_data"
    }
   ],
   "source": [
    "sns.heatmap(df.corr(), annot=True);"
   ]
  },
  {
   "cell_type": "code",
   "execution_count": 48,
   "id": "4e163614",
   "metadata": {},
   "outputs": [
    {
     "data": {
      "image/png": "[encoded data removed]",
      "text/plain": [
       "<Figure size 1080x1080 with 64 Axes>"
      ]
     },
     "metadata": {},
     "output_type": "display_data"
    }
   ],
   "source": [
    "sns.set()\n",
    "df.hist(figsize=(15,15), layout=(8,8), sharex=False);"
   ]
  },
  {
   "cell_type": "code",
   "execution_count": 50,
   "id": "f7403ba7",
   "metadata": {},
   "outputs": [
    {
     "data": {
      "image/png": "[encoded data removed]",
      "text/plain": [
       "<Figure size 1080x1080 with 81 Axes>"
      ]
     },
     "metadata": {},
     "output_type": "display_data"
    }
   ],
   "source": [
    "df.plot(kind='box', figsize=(15,15), layout=(9,9), sharex=False, subplots=True);"
   ]
  },
  {
   "cell_type": "code",
   "execution_count": 51,
   "id": "2d20aec7",
   "metadata": {},
   "outputs": [],
   "source": [
    "from sklearn.preprocessing import StandardScaler,LabelEncoder"
   ]
  },
  {
   "cell_type": "code",
   "execution_count": 52,
   "id": "af81c763",
   "metadata": {},
   "outputs": [
    {
     "data": {
      "text/html": [
       "<div>\n",
       "<style scoped>\n",
       "    .dataframe tbody tr th:only-of-type {\n",
       "        vertical-align: middle;\n",
       "    }\n",
       "\n",
       "    .dataframe tbody tr th {\n",
       "        vertical-align: top;\n",
       "    }\n",
       "\n",
       "    .dataframe thead th {\n",
       "        text-align: right;\n",
       "    }\n",
       "</style>\n",
       "<table border=\"1\" class=\"dataframe\">\n",
       "  <thead>\n",
       "    <tr style=\"text-align: right;\">\n",
       "      <th></th>\n",
       "      <th>Date</th>\n",
       "      <th>Location</th>\n",
       "      <th>MinTemp</th>\n",
       "      <th>MaxTemp</th>\n",
       "      <th>Rainfall</th>\n",
       "      <th>Evaporation</th>\n",
       "      <th>Sunshine</th>\n",
       "      <th>WindGustDir</th>\n",
       "      <th>WindGustSpeed</th>\n",
       "      <th>WindDir9am</th>\n",
       "      <th>...</th>\n",
       "      <th>Humidity9am</th>\n",
       "      <th>Humidity3pm</th>\n",
       "      <th>Pressure9am</th>\n",
       "      <th>Pressure3pm</th>\n",
       "      <th>Cloud9am</th>\n",
       "      <th>Cloud3pm</th>\n",
       "      <th>Temp9am</th>\n",
       "      <th>Temp3pm</th>\n",
       "      <th>RainToday</th>\n",
       "      <th>RainTomorrow</th>\n",
       "    </tr>\n",
       "  </thead>\n",
       "  <tbody>\n",
       "    <tr>\n",
       "      <th>0</th>\n",
       "      <td>0</td>\n",
       "      <td>1</td>\n",
       "      <td>149</td>\n",
       "      <td>134</td>\n",
       "      <td>5</td>\n",
       "      <td>116</td>\n",
       "      <td>140</td>\n",
       "      <td>13</td>\n",
       "      <td>20</td>\n",
       "      <td>13</td>\n",
       "      <td>...</td>\n",
       "      <td>60</td>\n",
       "      <td>16</td>\n",
       "      <td>90</td>\n",
       "      <td>103</td>\n",
       "      <td>8</td>\n",
       "      <td>9</td>\n",
       "      <td>145</td>\n",
       "      <td>134</td>\n",
       "      <td>0</td>\n",
       "      <td>0</td>\n",
       "    </tr>\n",
       "    <tr>\n",
       "      <th>1</th>\n",
       "      <td>1</td>\n",
       "      <td>1</td>\n",
       "      <td>89</td>\n",
       "      <td>156</td>\n",
       "      <td>0</td>\n",
       "      <td>116</td>\n",
       "      <td>140</td>\n",
       "      <td>14</td>\n",
       "      <td>20</td>\n",
       "      <td>6</td>\n",
       "      <td>...</td>\n",
       "      <td>33</td>\n",
       "      <td>19</td>\n",
       "      <td>119</td>\n",
       "      <td>110</td>\n",
       "      <td>9</td>\n",
       "      <td>9</td>\n",
       "      <td>148</td>\n",
       "      <td>159</td>\n",
       "      <td>0</td>\n",
       "      <td>0</td>\n",
       "    </tr>\n",
       "    <tr>\n",
       "      <th>2</th>\n",
       "      <td>2</td>\n",
       "      <td>1</td>\n",
       "      <td>144</td>\n",
       "      <td>162</td>\n",
       "      <td>0</td>\n",
       "      <td>116</td>\n",
       "      <td>140</td>\n",
       "      <td>15</td>\n",
       "      <td>21</td>\n",
       "      <td>13</td>\n",
       "      <td>...</td>\n",
       "      <td>27</td>\n",
       "      <td>24</td>\n",
       "      <td>89</td>\n",
       "      <td>119</td>\n",
       "      <td>9</td>\n",
       "      <td>2</td>\n",
       "      <td>186</td>\n",
       "      <td>148</td>\n",
       "      <td>0</td>\n",
       "      <td>0</td>\n",
       "    </tr>\n",
       "    <tr>\n",
       "      <th>3</th>\n",
       "      <td>3</td>\n",
       "      <td>1</td>\n",
       "      <td>107</td>\n",
       "      <td>185</td>\n",
       "      <td>0</td>\n",
       "      <td>116</td>\n",
       "      <td>140</td>\n",
       "      <td>4</td>\n",
       "      <td>9</td>\n",
       "      <td>9</td>\n",
       "      <td>...</td>\n",
       "      <td>34</td>\n",
       "      <td>10</td>\n",
       "      <td>189</td>\n",
       "      <td>160</td>\n",
       "      <td>9</td>\n",
       "      <td>9</td>\n",
       "      <td>157</td>\n",
       "      <td>181</td>\n",
       "      <td>0</td>\n",
       "      <td>0</td>\n",
       "    </tr>\n",
       "    <tr>\n",
       "      <th>4</th>\n",
       "      <td>4</td>\n",
       "      <td>1</td>\n",
       "      <td>190</td>\n",
       "      <td>228</td>\n",
       "      <td>8</td>\n",
       "      <td>116</td>\n",
       "      <td>140</td>\n",
       "      <td>13</td>\n",
       "      <td>18</td>\n",
       "      <td>1</td>\n",
       "      <td>...</td>\n",
       "      <td>71</td>\n",
       "      <td>27</td>\n",
       "      <td>121</td>\n",
       "      <td>92</td>\n",
       "      <td>7</td>\n",
       "      <td>8</td>\n",
       "      <td>154</td>\n",
       "      <td>213</td>\n",
       "      <td>0</td>\n",
       "      <td>0</td>\n",
       "    </tr>\n",
       "    <tr>\n",
       "      <th>5</th>\n",
       "      <td>5</td>\n",
       "      <td>1</td>\n",
       "      <td>161</td>\n",
       "      <td>202</td>\n",
       "      <td>2</td>\n",
       "      <td>116</td>\n",
       "      <td>140</td>\n",
       "      <td>14</td>\n",
       "      <td>26</td>\n",
       "      <td>13</td>\n",
       "      <td>...</td>\n",
       "      <td>44</td>\n",
       "      <td>17</td>\n",
       "      <td>105</td>\n",
       "      <td>86</td>\n",
       "      <td>9</td>\n",
       "      <td>9</td>\n",
       "      <td>182</td>\n",
       "      <td>205</td>\n",
       "      <td>0</td>\n",
       "      <td>0</td>\n",
       "    </tr>\n",
       "    <tr>\n",
       "      <th>6</th>\n",
       "      <td>6</td>\n",
       "      <td>1</td>\n",
       "      <td>158</td>\n",
       "      <td>155</td>\n",
       "      <td>0</td>\n",
       "      <td>116</td>\n",
       "      <td>140</td>\n",
       "      <td>13</td>\n",
       "      <td>23</td>\n",
       "      <td>12</td>\n",
       "      <td>...</td>\n",
       "      <td>38</td>\n",
       "      <td>13</td>\n",
       "      <td>109</td>\n",
       "      <td>114</td>\n",
       "      <td>1</td>\n",
       "      <td>9</td>\n",
       "      <td>157</td>\n",
       "      <td>162</td>\n",
       "      <td>0</td>\n",
       "      <td>0</td>\n",
       "    </tr>\n",
       "    <tr>\n",
       "      <th>7</th>\n",
       "      <td>7</td>\n",
       "      <td>1</td>\n",
       "      <td>92</td>\n",
       "      <td>172</td>\n",
       "      <td>0</td>\n",
       "      <td>116</td>\n",
       "      <td>140</td>\n",
       "      <td>13</td>\n",
       "      <td>15</td>\n",
       "      <td>10</td>\n",
       "      <td>...</td>\n",
       "      <td>37</td>\n",
       "      <td>13</td>\n",
       "      <td>147</td>\n",
       "      <td>133</td>\n",
       "      <td>9</td>\n",
       "      <td>9</td>\n",
       "      <td>139</td>\n",
       "      <td>171</td>\n",
       "      <td>0</td>\n",
       "      <td>0</td>\n",
       "    </tr>\n",
       "    <tr>\n",
       "      <th>8</th>\n",
       "      <td>8</td>\n",
       "      <td>1</td>\n",
       "      <td>112</td>\n",
       "      <td>224</td>\n",
       "      <td>0</td>\n",
       "      <td>116</td>\n",
       "      <td>140</td>\n",
       "      <td>6</td>\n",
       "      <td>39</td>\n",
       "      <td>9</td>\n",
       "      <td>...</td>\n",
       "      <td>31</td>\n",
       "      <td>3</td>\n",
       "      <td>102</td>\n",
       "      <td>68</td>\n",
       "      <td>9</td>\n",
       "      <td>9</td>\n",
       "      <td>159</td>\n",
       "      <td>218</td>\n",
       "      <td>0</td>\n",
       "      <td>1</td>\n",
       "    </tr>\n",
       "    <tr>\n",
       "      <th>9</th>\n",
       "      <td>9</td>\n",
       "      <td>1</td>\n",
       "      <td>146</td>\n",
       "      <td>206</td>\n",
       "      <td>10</td>\n",
       "      <td>116</td>\n",
       "      <td>140</td>\n",
       "      <td>13</td>\n",
       "      <td>11</td>\n",
       "      <td>8</td>\n",
       "      <td>...</td>\n",
       "      <td>47</td>\n",
       "      <td>21</td>\n",
       "      <td>83</td>\n",
       "      <td>89</td>\n",
       "      <td>9</td>\n",
       "      <td>9</td>\n",
       "      <td>177</td>\n",
       "      <td>198</td>\n",
       "      <td>1</td>\n",
       "      <td>0</td>\n",
       "    </tr>\n",
       "  </tbody>\n",
       "</table>\n",
       "<p>10 rows × 23 columns</p>\n",
       "</div>"
      ],
      "text/plain": [
       "   Date  Location  MinTemp  MaxTemp  Rainfall  Evaporation  Sunshine  \\\n",
       "0     0         1      149      134         5          116       140   \n",
       "1     1         1       89      156         0          116       140   \n",
       "2     2         1      144      162         0          116       140   \n",
       "3     3         1      107      185         0          116       140   \n",
       "4     4         1      190      228         8          116       140   \n",
       "5     5         1      161      202         2          116       140   \n",
       "6     6         1      158      155         0          116       140   \n",
       "7     7         1       92      172         0          116       140   \n",
       "8     8         1      112      224         0          116       140   \n",
       "9     9         1      146      206        10          116       140   \n",
       "\n",
       "   WindGustDir  WindGustSpeed  WindDir9am  ...  Humidity9am  Humidity3pm  \\\n",
       "0           13             20          13  ...           60           16   \n",
       "1           14             20           6  ...           33           19   \n",
       "2           15             21          13  ...           27           24   \n",
       "3            4              9           9  ...           34           10   \n",
       "4           13             18           1  ...           71           27   \n",
       "5           14             26          13  ...           44           17   \n",
       "6           13             23          12  ...           38           13   \n",
       "7           13             15          10  ...           37           13   \n",
       "8            6             39           9  ...           31            3   \n",
       "9           13             11           8  ...           47           21   \n",
       "\n",
       "   Pressure9am  Pressure3pm  Cloud9am  Cloud3pm  Temp9am  Temp3pm  RainToday  \\\n",
       "0           90          103         8         9      145      134          0   \n",
       "1          119          110         9         9      148      159          0   \n",
       "2           89          119         9         2      186      148          0   \n",
       "3          189          160         9         9      157      181          0   \n",
       "4          121           92         7         8      154      213          0   \n",
       "5          105           86         9         9      182      205          0   \n",
       "6          109          114         1         9      157      162          0   \n",
       "7          147          133         9         9      139      171          0   \n",
       "8          102           68         9         9      159      218          0   \n",
       "9           83           89         9         9      177      198          1   \n",
       "\n",
       "   RainTomorrow  \n",
       "0             0  \n",
       "1             0  \n",
       "2             0  \n",
       "3             0  \n",
       "4             0  \n",
       "5             0  \n",
       "6             0  \n",
       "7             0  \n",
       "8             1  \n",
       "9             0  \n",
       "\n",
       "[10 rows x 23 columns]"
      ]
     },
     "execution_count": 52,
     "metadata": {},
     "output_type": "execute_result"
    }
   ],
   "source": [
    "df1= df.copy()\n",
    "df1= df1.apply(LabelEncoder().fit_transform)\n",
    "df1.head(10)"
   ]
  },
  {
   "cell_type": "code",
   "execution_count": 59,
   "id": "021ba858",
   "metadata": {},
   "outputs": [],
   "source": [
    "x = df1.drop(['RainTomorrow','RainToday'], axis=1)\n",
    "y = df1['RainTomorrow']"
   ]
  },
  {
   "cell_type": "code",
   "execution_count": 60,
   "id": "29a38e61",
   "metadata": {},
   "outputs": [],
   "source": [
    "from sklearn.model_selection import train_test_split\n",
    "x_train, x_test, y_train, y_test = train_test_split(x,y, test_size=0.2, random_state=30)"
   ]
  },
  {
   "cell_type": "code",
   "execution_count": 61,
   "id": "0d6d1cce",
   "metadata": {},
   "outputs": [
    {
     "name": "stdout",
     "output_type": "stream",
     "text": [
      "accuracy on training data: 0.80\n",
      "Accuracy on test data: 0.80\n"
     ]
    }
   ],
   "source": [
    "from sklearn.linear_model import LogisticRegression\n",
    "from sklearn.metrics import accuracy_score\n",
    "\n",
    "lr = LogisticRegression()\n",
    "\n",
    "model = lr.fit(x_train, y_train)\n",
    "prediction = model.predict(x_test)\n",
    "\n",
    "print('accuracy on training data: {:,.2f}'.format(lr.score(x_train, y_train)))\n",
    "print(\"Accuracy on test data: {:,.2f}\".format(lr.score(x_test, y_test)))"
   ]
  },
  {
   "cell_type": "code",
   "execution_count": 62,
   "id": "57d813c9",
   "metadata": {},
   "outputs": [
    {
     "name": "stdout",
     "output_type": "stream",
     "text": [
      "accuracy on training data: 1.00\n",
      "Accuracy on test data: 0.90\n"
     ]
    }
   ],
   "source": [
    "from sklearn.ensemble import RandomForestClassifier\n",
    "\n",
    "rf = RandomForestClassifier()\n",
    "\n",
    "model1 = rf.fit(x_train, y_train)\n",
    "prediction1 = model1.predict(x_test)\n",
    "\n",
    "print('accuracy on training data: {:,.2f}'.format(rf.score(x_train, y_train)))\n",
    "print(\"Accuracy on test data: {:,.2f}\".format(rf.score(x_test, y_test)))"
   ]
  },
  {
   "cell_type": "code",
   "execution_count": 63,
   "id": "b1c38935",
   "metadata": {},
   "outputs": [
    {
     "name": "stdout",
     "output_type": "stream",
     "text": [
      "accuracy on training data: 1.00\n",
      "Accuracy on test data: 0.84\n"
     ]
    }
   ],
   "source": [
    "from sklearn.tree import DecisionTreeClassifier\n",
    "\n",
    "dt = DecisionTreeClassifier()\n",
    "\n",
    "model2 = dt.fit(x_train, y_train)\n",
    "prediction2 = model2.predict(x_test)\n",
    "\n",
    "print('accuracy on training data: {:,.2f}'.format(dt.score(x_train, y_train)))\n",
    "print(\"Accuracy on test data: {:,.2f}\".format(dt.score(x_test, y_test)))"
   ]
  },
  {
   "cell_type": "code",
   "execution_count": 64,
   "id": "48ac849b",
   "metadata": {},
   "outputs": [],
   "source": [
    "from sklearn.metrics import confusion_matrix\n",
    "from sklearn.metrics import classification_report"
   ]
  },
  {
   "cell_type": "code",
   "execution_count": 65,
   "id": "2d53e1c0",
   "metadata": {},
   "outputs": [
    {
     "name": "stdout",
     "output_type": "stream",
     "text": [
      "[[1214   42    0]\n",
      " [ 118  264    2]\n",
      " [   8    2   35]]\n"
     ]
    }
   ],
   "source": [
    "print(confusion_matrix(y_test,prediction1))"
   ]
  },
  {
   "cell_type": "code",
   "execution_count": 66,
   "id": "f2d98aed",
   "metadata": {},
   "outputs": [
    {
     "name": "stdout",
     "output_type": "stream",
     "text": [
      "              precision    recall  f1-score   support\n",
      "\n",
      "           0       0.91      0.97      0.94      1256\n",
      "           1       0.86      0.69      0.76       384\n",
      "           2       0.95      0.78      0.85        45\n",
      "\n",
      "    accuracy                           0.90      1685\n",
      "   macro avg       0.90      0.81      0.85      1685\n",
      "weighted avg       0.90      0.90      0.89      1685\n",
      "\n"
     ]
    }
   ],
   "source": [
    "print(classification_report(y_test,prediction1))"
   ]
  },
  {
   "cell_type": "code",
   "execution_count": null,
   "id": "2bb0a0a4",
   "metadata": {},
   "outputs": [],
   "source": []
  }
 ],
 "metadata": {
  "kernelspec": {
   "display_name": "Python 3 (ipykernel)",
   "language": "python",
   "name": "python3"
  },
  "language_info": {
   "codemirror_mode": {
    "name": "ipython",
    "version": 3
   },
   "file_extension": ".py",
   "mimetype": "text/x-python",
   "name": "python",
   "nbconvert_exporter": "python",
   "pygments_lexer": "ipython3",
   "version": "3.9.12"
  }
 },
 "nbformat": 4,
 "nbformat_minor": 5
}
